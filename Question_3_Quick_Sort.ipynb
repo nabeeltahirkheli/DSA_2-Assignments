{
  "nbformat": 4,
  "nbformat_minor": 0,
  "metadata": {
    "colab": {
      "provenance": []
    },
    "kernelspec": {
      "name": "python3",
      "display_name": "Python 3"
    },
    "language_info": {
      "name": "python"
    }
  },
  "cells": [
    {
      "cell_type": "markdown",
      "source": [
        "### Simple Approach"
      ],
      "metadata": {
        "id": "27mKFNMwhiY-"
      }
    },
    {
      "cell_type": "code",
      "execution_count": 1,
      "metadata": {
        "colab": {
          "base_uri": "https://localhost:8080/"
        },
        "id": "4zGftNXADn5M",
        "outputId": "7c339c66-bdc0-4a39-b801-4cf70bacc61b"
      },
      "outputs": [
        {
          "output_type": "stream",
          "name": "stdout",
          "text": [
            "Original list of words: ['apple', 'Cherry', 'banana', 'date', 'elderberry', 'grape', 'fig']\n",
            "Sorted list of words: ['apple', 'banana', 'Cherry', 'date', 'elderberry', 'fig', 'grape']\n"
          ]
        }
      ],
      "source": [
        "# Function to partition the array based on the pivot (middle element)\n",
        "def partition(arr, low, high):\n",
        "    # Choose the middle element as the pivot\n",
        "    mid = (low + high) // 2\n",
        "    pivot = arr[mid]\n",
        "\n",
        "    # Swap pivot with the last element for partitioning\n",
        "    arr[mid], arr[high] = arr[high], arr[mid]\n",
        "\n",
        "    i = low - 1  # Index of the smaller element\n",
        "\n",
        "    # Partition the array\n",
        "    for j in range(low, high):\n",
        "        if arr[j].lower() <= pivot.lower():  # Case-insensitive comparison\n",
        "            i += 1\n",
        "            arr[i], arr[j] = arr[j], arr[i]\n",
        "\n",
        "    # Place pivot in the correct position\n",
        "    arr[i + 1], arr[high] = arr[high], arr[i + 1]\n",
        "\n",
        "    return i + 1\n",
        "\n",
        "# Quicksort function\n",
        "def quicksort(arr, low, high):\n",
        "    if low < high:\n",
        "        # Partition the array and get the pivot index\n",
        "        pi = partition(arr, low, high)\n",
        "\n",
        "        # Recursively sort the elements before and after the pivot\n",
        "        quicksort(arr, low, pi - 1)\n",
        "        quicksort(arr, pi + 1, high)\n",
        "\n",
        "# Example usage\n",
        "words = [\"apple\", \"Cherry\",\"banana\", \"date\", \"elderberry\", \"grape\", \"fig\"]\n",
        "print(\"Original list of words:\", words)\n",
        "\n",
        "# Call the quicksort function\n",
        "quicksort(words, 0, len(words) - 1)\n",
        "\n",
        "# Sorted output\n",
        "print(\"Sorted list of words:\", words)\n"
      ]
    },
    {
      "cell_type": "markdown",
      "source": [
        "### Alternative Approach Using Auxilary Memory Space"
      ],
      "metadata": {
        "id": "zCx7EXSVhmsl"
      }
    },
    {
      "cell_type": "code",
      "source": [
        "def quicksort_with_auxiliary(arr):\n",
        "    # Base case: if the array is empty or contains a single element, it's already sorted\n",
        "    if len(arr) <= 1:\n",
        "        return arr\n",
        "\n",
        "    # Select the middle element as pivot\n",
        "    mid = len(arr) // 2\n",
        "    pivot = arr[mid]\n",
        "\n",
        "    # Create new lists for elements less than and greater than the pivot\n",
        "    less_than_pivot = [x for x in arr if x.lower() < pivot.lower()]\n",
        "    equal_to_pivot = [x for x in arr if x.lower() == pivot.lower()]\n",
        "    greater_than_pivot = [x for x in arr if x.lower() > pivot.lower()]\n",
        "\n",
        "    # Recursively sort the subarrays and concatenate the results\n",
        "    return quicksort_with_auxiliary(less_than_pivot) + equal_to_pivot + quicksort_with_auxiliary(greater_than_pivot)\n",
        "\n",
        "# Example usage\n",
        "words = [\"apple\", \"Cherry\",\"banana\", \"date\", \"elderberry\", \"grape\", \"fig\"]\n",
        "print(\"Original list of words:\", words)\n",
        "\n",
        "# Call the auxiliary memory-based quicksort\n",
        "sorted_words = quicksort_with_auxiliary(words)\n",
        "\n",
        "# Sorted output\n",
        "print(\"Sorted list of words:\", sorted_words)\n"
      ],
      "metadata": {
        "colab": {
          "base_uri": "https://localhost:8080/"
        },
        "id": "K7Bg2ZfDheFc",
        "outputId": "2e9237e5-2a80-49fa-af20-bfbc5833ba95"
      },
      "execution_count": 2,
      "outputs": [
        {
          "output_type": "stream",
          "name": "stdout",
          "text": [
            "Original list of words: ['apple', 'Cherry', 'banana', 'date', 'elderberry', 'grape', 'fig']\n",
            "Sorted list of words: ['apple', 'banana', 'Cherry', 'date', 'elderberry', 'fig', 'grape']\n"
          ]
        }
      ]
    },
    {
      "cell_type": "code",
      "source": [],
      "metadata": {
        "id": "r2GVhiYqhuKX"
      },
      "execution_count": null,
      "outputs": []
    }
  ]
}