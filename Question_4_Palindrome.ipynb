{
  "nbformat": 4,
  "nbformat_minor": 0,
  "metadata": {
    "colab": {
      "provenance": []
    },
    "kernelspec": {
      "name": "python3",
      "display_name": "Python 3"
    },
    "language_info": {
      "name": "python"
    }
  },
  "cells": [
    {
      "cell_type": "code",
      "execution_count": 1,
      "metadata": {
        "colab": {
          "base_uri": "https://localhost:8080/"
        },
        "id": "_Sd1MUm6iCBR",
        "outputId": "1783cdf0-bd23-42fb-dfd8-b8ab326152b4"
      },
      "outputs": [
        {
          "output_type": "stream",
          "name": "stdout",
          "text": [
            "'madam' is a palindrome.\n",
            "'racecar' is a palindrome.\n",
            "'hello' is not a palindrome.\n",
            "'gag' is a palindrome.\n",
            "'pop' is a palindrome.\n",
            "'Hannah' is a palindrome.\n",
            "'rotator' is a palindrome.\n",
            "'python' is not a palindrome.\n"
          ]
        }
      ],
      "source": [
        "# Function to check if a word is a palindrome using recursion\n",
        "def isPalindrome(word):\n",
        "    # Base case 1: If the word has 0 or 1 character, it's a palindrome\n",
        "    if len(word) <= 1:\n",
        "        return True\n",
        "\n",
        "    # Base case 2: If the first and last characters are not the same, it's not a palindrome\n",
        "    if word[0].lower() != word[-1].lower():  # Case-insensitive comparison\n",
        "        return False\n",
        "\n",
        "    # Recursive case: Check the inner substring (excluding the first and last characters)\n",
        "    return isPalindrome(word[1:-1])\n",
        "\n",
        "# Example usage\n",
        "words = [\"madam\", \"racecar\", \"hello\", \"gag\", \"pop\", \"Hannah\", \"rotator\", \"python\"]\n",
        "\n",
        "for word in words:\n",
        "    if isPalindrome(word):\n",
        "        print(f\"'{word}' is a palindrome.\")\n",
        "    else:\n",
        "        print(f\"'{word}' is not a palindrome.\")\n"
      ]
    },
    {
      "cell_type": "code",
      "source": [],
      "metadata": {
        "id": "igq8UYSEiJoQ"
      },
      "execution_count": null,
      "outputs": []
    }
  ]
}