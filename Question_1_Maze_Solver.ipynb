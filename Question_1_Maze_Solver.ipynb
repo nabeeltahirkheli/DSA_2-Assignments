{
  "nbformat": 4,
  "nbformat_minor": 0,
  "metadata": {
    "colab": {
      "provenance": []
    },
    "kernelspec": {
      "name": "python3",
      "display_name": "Python 3"
    },
    "language_info": {
      "name": "python"
    }
  },
  "cells": [
    {
      "cell_type": "markdown",
      "source": [
        "## Importing Libraries"
      ],
      "metadata": {
        "id": "GENzs7XBQeTy"
      }
    },
    {
      "cell_type": "code",
      "execution_count": 164,
      "metadata": {
        "id": "K0rgLnCGQWTB"
      },
      "outputs": [],
      "source": [
        "import numpy as np\n",
        "import matplotlib.pyplot as plt\n",
        "import random\n",
        "from PIL import Image"
      ]
    },
    {
      "cell_type": "markdown",
      "source": [
        "## Loading Maze Image into an Array"
      ],
      "metadata": {
        "id": "iMTej6FMQ0Vd"
      }
    },
    {
      "cell_type": "code",
      "source": [
        "def load_maze():\n",
        "    # Load the maze image\n",
        "    img = Image.open('maze.jpg').convert('L')\n",
        "    maze = np.array(img)\n",
        "\n",
        "    # Convert to binary (0 for walls, 1 for open paths)\n",
        "    maze = np.where(maze > 128, 1, 0)\n",
        "    print(len(maze[0]),len(maze))\n",
        "    # Display the maze\n",
        "    plt.imshow(maze, cmap='gray')\n",
        "    plt.title(\"Maze\")\n",
        "    plt.show()\n",
        "\n",
        "    return maze\n",
        "\n",
        "maze_orignal = load_maze()\n"
      ],
      "metadata": {
        "colab": {
          "base_uri": "https://localhost:8080/",
          "height": 469
        },
        "id": "V68BlgNyQwQl",
        "outputId": "e0cef07d-2e13-4ee9-cc15-8b26a1bbaad0"
      },
      "execution_count": 165,
      "outputs": [
        {
          "output_type": "stream",
          "name": "stdout",
          "text": [
            "210 210\n"
          ]
        },
        {
          "output_type": "display_data",
          "data": {
            "text/plain": [
              "<Figure size 640x480 with 1 Axes>"
            ],
            "image/png": "[encoded data removed]"
          },
          "metadata": {}
        }
      ]
    },
    {
      "cell_type": "markdown",
      "source": [
        "### Simplified Maze by reducing the Size of Maze Matrix"
      ],
      "metadata": {
        "id": "lscF0kLVpq_v"
      }
    },
    {
      "cell_type": "code",
      "source": [
        "#\n",
        "maze_simplified=[]\n",
        "t=0\n",
        "for i in range(0,len(maze_orignal),10):\n",
        "    maze_simplified.append([])\n",
        "    for j in range(0,len(maze_orignal[0]),10):\n",
        "        maze_simplified[t].append(maze_orignal[i][j])\n",
        "    t+=1\n",
        "print(len(maze_simplified),len(maze_simplified[0]))"
      ],
      "metadata": {
        "colab": {
          "base_uri": "https://localhost:8080/"
        },
        "id": "wOZNZZ_aRULA",
        "outputId": "18811d69-b8d0-4871-b851-406e11f50dd6"
      },
      "execution_count": 166,
      "outputs": [
        {
          "output_type": "stream",
          "name": "stdout",
          "text": [
            "21 21\n"
          ]
        }
      ]
    },
    {
      "cell_type": "code",
      "source": [
        "maze_simplified"
      ],
      "metadata": {
        "colab": {
          "base_uri": "https://localhost:8080/"
        },
        "id": "liNP9D-ClJjr",
        "outputId": "211490aa-e99e-48d4-a47a-e025c983d922"
      },
      "execution_count": 167,
      "outputs": [
        {
          "output_type": "execute_result",
          "data": {
            "text/plain": [
              "[[0, 0, 0, 0, 0, 0, 0, 0, 0, 1, 0, 0, 0, 0, 0, 0, 0, 0, 0, 0, 0],\n",
              " [0, 1, 1, 1, 0, 1, 1, 1, 0, 1, 1, 1, 1, 1, 0, 1, 1, 1, 1, 1, 0],\n",
              " [0, 1, 0, 0, 0, 1, 0, 1, 0, 1, 0, 0, 0, 1, 0, 1, 0, 0, 0, 1, 0],\n",
              " [0, 1, 0, 1, 1, 1, 0, 1, 1, 1, 0, 1, 0, 1, 0, 1, 1, 1, 0, 1, 0],\n",
              " [0, 1, 0, 1, 0, 0, 0, 0, 0, 0, 0, 1, 0, 1, 0, 0, 0, 0, 0, 1, 0],\n",
              " [0, 1, 0, 1, 1, 1, 0, 1, 1, 1, 1, 1, 0, 1, 1, 1, 0, 1, 1, 1, 0],\n",
              " [0, 1, 0, 0, 0, 1, 0, 1, 0, 0, 0, 1, 0, 0, 0, 1, 0, 1, 0, 0, 0],\n",
              " [0, 1, 1, 1, 0, 1, 0, 1, 0, 1, 1, 1, 0, 1, 0, 1, 0, 1, 1, 1, 0],\n",
              " [0, 1, 0, 0, 0, 1, 0, 1, 0, 1, 0, 1, 0, 1, 0, 1, 0, 0, 0, 1, 0],\n",
              " [0, 1, 1, 1, 0, 1, 0, 1, 0, 1, 0, 1, 0, 1, 0, 1, 0, 1, 1, 1, 0],\n",
              " [0, 1, 0, 1, 0, 1, 0, 0, 0, 1, 0, 1, 0, 1, 0, 1, 0, 1, 0, 1, 0],\n",
              " [0, 1, 0, 1, 0, 1, 1, 1, 1, 1, 0, 1, 1, 1, 0, 1, 0, 1, 0, 1, 0],\n",
              " [0, 1, 0, 1, 0, 0, 0, 0, 0, 1, 0, 0, 0, 0, 0, 1, 0, 1, 0, 0, 0],\n",
              " [0, 1, 0, 1, 1, 1, 0, 1, 1, 1, 0, 1, 1, 1, 1, 1, 0, 1, 1, 1, 0],\n",
              " [0, 1, 0, 0, 0, 1, 0, 1, 0, 0, 0, 0, 0, 0, 0, 0, 0, 0, 0, 1, 0],\n",
              " [0, 1, 1, 1, 0, 1, 0, 1, 0, 1, 1, 1, 1, 1, 1, 1, 1, 1, 1, 1, 0],\n",
              " [0, 0, 0, 1, 0, 1, 0, 1, 0, 0, 0, 0, 0, 0, 0, 1, 0, 0, 0, 0, 0],\n",
              " [0, 1, 0, 1, 0, 1, 1, 1, 0, 1, 1, 1, 1, 1, 0, 1, 1, 1, 1, 1, 0],\n",
              " [0, 1, 0, 1, 0, 0, 0, 0, 0, 1, 0, 0, 0, 1, 0, 0, 0, 0, 0, 1, 0],\n",
              " [0, 1, 1, 1, 1, 1, 1, 1, 1, 1, 0, 1, 1, 1, 1, 1, 1, 1, 1, 1, 0],\n",
              " [0, 0, 0, 0, 0, 0, 0, 0, 0, 0, 0, 1, 0, 0, 0, 0, 0, 0, 0, 0, 0]]"
            ]
          },
          "metadata": {},
          "execution_count": 167
        }
      ]
    },
    {
      "cell_type": "markdown",
      "source": [
        "### Defining Valid Directions, Moves, Entrance and Exit Point"
      ],
      "metadata": {
        "id": "Pw0uN27krbt0"
      }
    },
    {
      "cell_type": "code",
      "source": [
        "# Define directions: up, down, left, right\n",
        "DIRECTIONS = [(-1, 0), (1, 0), (0, -1), (0, 1)]\n",
        "\n",
        "start = (0, 9)  # Entrance position\n",
        "end = (20, 11)  # Exit position\n",
        "\n",
        "def is_valid_move(maze, pos):\n",
        "    \"\"\"Check if the position is within bounds and not a wall.\"\"\"\n",
        "    x, y = pos\n",
        "    return 0 <= x < len(maze) and 0 <= y < len(maze[0]) and maze[x][y] == 1"
      ],
      "metadata": {
        "id": "ckpENOELrYPt"
      },
      "execution_count": 168,
      "outputs": []
    },
    {
      "cell_type": "markdown",
      "source": [
        "### Defining Function for Visualizing the Results"
      ],
      "metadata": {
        "id": "8u0m2fDgr6QN"
      }
    },
    {
      "cell_type": "code",
      "source": [
        "def visualize_maze(maze, path):\n",
        "    \"\"\"Visualizes the maze and the path found.\"\"\"\n",
        "    maze_copy = np.array(maze)\n",
        "    for pos in path:\n",
        "        maze_copy[pos[0], pos[1]] = 0.5  # Mark the path with a different color\n",
        "\n",
        "    plt.imshow(maze_copy, cmap='gray')\n",
        "    plt.title('Maze with Solution Path' if path else 'No Solution Found')\n",
        "    plt.show()"
      ],
      "metadata": {
        "id": "dasPOqfMr5K9"
      },
      "execution_count": 169,
      "outputs": []
    },
    {
      "cell_type": "markdown",
      "source": [
        "### Las Vegas Algorithm"
      ],
      "metadata": {
        "id": "82WxfNi3p4HN"
      }
    },
    {
      "cell_type": "code",
      "source": [
        "def solve_maze_las_vegas(maze, start, end, max_steps=400):\n",
        "    \"\"\"Solves the maze using a Las Vegas algorithm approach with a step limit.\"\"\"\n",
        "    path = [start]\n",
        "    current_pos = start\n",
        "    steps = 0\n",
        "\n",
        "    while current_pos != end and steps < max_steps:\n",
        "        # Randomly pick a valid move direction\n",
        "        random.shuffle(DIRECTIONS)\n",
        "        moved = False\n",
        "\n",
        "        for direction in DIRECTIONS:\n",
        "            next_pos = (current_pos[0] + direction[0], current_pos[1] + direction[1])\n",
        "\n",
        "            if is_valid_move(maze, next_pos):\n",
        "                path.append(next_pos)\n",
        "                current_pos = next_pos\n",
        "                maze[current_pos[0]][current_pos[1]] = 2  # Mark as visited\n",
        "                moved = True\n",
        "                break\n",
        "\n",
        "        if not moved:  # No valid move found, backtrack\n",
        "            path.pop()\n",
        "            if not path:\n",
        "                return False, []  # No solution\n",
        "            current_pos = path[-1]\n",
        "\n",
        "        steps += 1\n",
        "\n",
        "    # If the exit was reached, return success\n",
        "    if current_pos == end:\n",
        "        return True, path\n",
        "    else:\n",
        "        return False, path\n"
      ],
      "metadata": {
        "id": "U9XrIIC5lwll"
      },
      "execution_count": 170,
      "outputs": []
    },
    {
      "cell_type": "markdown",
      "source": [
        "### Back Tracking Algorithm"
      ],
      "metadata": {
        "id": "m6IusbITtel6"
      }
    },
    {
      "cell_type": "code",
      "source": [
        "def solve_maze_backtracking(maze, current_pos, end, path):\n",
        "    \"\"\"Solve the maze using the Backtracking approach.\"\"\"\n",
        "    if current_pos == end:\n",
        "        return True  # Exit found\n",
        "\n",
        "    x, y = current_pos\n",
        "    maze[x][y] = 2  # Mark as visited\n",
        "    path.append(current_pos)\n",
        "\n",
        "    # Try all possible directions (up, down, left, right)\n",
        "    for direction in DIRECTIONS:\n",
        "        next_pos = (x + direction[0], y + direction[1])\n",
        "        if is_valid_move(maze, next_pos):\n",
        "            if solve_maze_backtracking(maze, next_pos, end, path):\n",
        "                return True\n",
        "\n",
        "    # Backtrack: undo the move if no solution found\n",
        "    path.pop()\n",
        "    maze[x][y] = 1  # Unmark this position\n",
        "    return False\n"
      ],
      "metadata": {
        "id": "-2_XxuVbpmLG"
      },
      "execution_count": 171,
      "outputs": []
    },
    {
      "cell_type": "code",
      "source": [
        "while True:\n",
        "  print(\"Welcome to Maze Solver !\")\n",
        "  choice=int(input(\"Choose Algo for Solving Maze: \\n1. Las Vegas Algorithm\\n2. Back Tracking Algorithm\\n 3. Exit\\n\"))\n",
        "  if choice==1:\n",
        "    maze_las_vegas=np.copy(maze_simplified)\n",
        "\n",
        "    success, path = solve_maze_las_vegas(maze_las_vegas, start, end)\n",
        "    if success:\n",
        "        print(f\"Exit found in {len(path)} steps!\")\n",
        "    else:\n",
        "        print(f\"Failed to find the exit within 400 steps.\")\n",
        "    visualize_maze(maze_las_vegas, path)\n",
        "  elif choice==2:\n",
        "    path = []\n",
        "    maze_backtracking=np.copy(maze_simplified)\n",
        "    if solve_maze_backtracking(maze_backtracking, start, end, path):\n",
        "        print(f\"Exit found! Path: {path}\")\n",
        "    else:\n",
        "        print(\"No solution found.\")\n",
        "    visualize_maze(maze_backtracking, path)\n",
        "  else:\n",
        "    break\n"
      ],
      "metadata": {
        "colab": {
          "base_uri": "https://localhost:8080/",
          "height": 1000
        },
        "id": "RC8dLCSIrQuB",
        "outputId": "df6c0b4d-104f-4da6-f476-3504943c964c"
      },
      "execution_count": 175,
      "outputs": [
        {
          "output_type": "stream",
          "name": "stdout",
          "text": [
            "Welcome to Maze Solver !\n",
            "Choose Algo for Solving Maze: \n",
            "1. Las Vegas Algorithm\n",
            "2. Back Tracking Algorithm\n",
            " 3. Exit\n",
            "1\n",
            "Exit found in 79 steps!\n"
          ]
        },
        {
          "output_type": "display_data",
          "data": {
            "text/plain": [
              "<Figure size 640x480 with 1 Axes>"
            ],
            "image/png": "[encoded data removed]"
          },
          "metadata": {}
        },
        {
          "output_type": "stream",
          "name": "stdout",
          "text": [
            "Welcome to Maze Solver !\n",
            "Choose Algo for Solving Maze: \n",
            "1. Las Vegas Algorithm\n",
            "2. Back Tracking Algorithm\n",
            " 3. Exit\n",
            "2\n",
            "Exit found! Path: [(0, 9), (1, 9), (2, 9), (3, 9), (3, 8), (3, 7), (2, 7), (1, 7), (1, 6), (1, 5), (2, 5), (3, 5), (3, 4), (3, 3), (4, 3), (5, 3), (5, 4), (5, 5), (6, 5), (7, 5), (8, 5), (9, 5), (10, 5), (11, 5), (11, 6), (11, 7), (11, 8), (11, 9), (12, 9), (13, 9), (13, 8), (13, 7), (14, 7), (15, 7), (16, 7), (17, 7), (17, 6), (17, 5), (16, 5), (15, 5), (14, 5), (13, 5), (13, 4), (13, 3), (12, 3), (11, 3), (10, 3), (9, 3), (9, 2), (9, 1), (10, 1), (11, 1), (12, 1), (13, 1), (14, 1), (15, 1), (15, 2), (15, 3), (16, 3), (17, 3), (18, 3), (19, 3), (19, 4), (19, 5), (19, 6), (19, 7), (19, 8), (19, 9), (18, 9), (17, 9), (17, 10), (17, 11), (17, 12), (17, 13), (18, 13), (19, 13), (19, 12), (19, 11)]\n"
          ]
        },
        {
          "output_type": "display_data",
          "data": {
            "text/plain": [
              "<Figure size 640x480 with 1 Axes>"
            ],
            "image/png": "[encoded data removed]"
          },
          "metadata": {}
        },
        {
          "name": "stdout",
          "output_type": "stream",
          "text": [
            "Welcome to Maze Solver !\n",
            "Choose Algo for Solving Maze: \n",
            "1. Las Vegas Algorithm\n",
            "2. Back Tracking Algorithm\n",
            " 3. Exit\n",
            "3\n"
          ]
        }
      ]
    },
    {
      "cell_type": "code",
      "source": [
        "# Function to run multiple simulations\n",
        "def run_simulations(maze, start, end, step_limit=400, runs=10000):\n",
        "    backtracking_successes = 0\n",
        "    las_vegas_successes = 0\n",
        "\n",
        "    for _ in range(runs):\n",
        "        # Reset maze for each run (deep copy)\n",
        "        maze_copy = np.copy(maze)\n",
        "\n",
        "        # Backtracking\n",
        "        path_backtracking = []\n",
        "        if solve_maze_backtracking(maze_copy, start, end, path_backtracking):\n",
        "            backtracking_successes += 1\n",
        "\n",
        "        # Reset maze for Las Vegas\n",
        "        maze_copy = np.copy(maze)\n",
        "\n",
        "        # Las Vegas\n",
        "        if solve_maze_las_vegas(maze_copy, start, end, step_limit):\n",
        "            las_vegas_successes += 1\n",
        "\n",
        "    backtracking_success_rate = (backtracking_successes / runs) * 100\n",
        "    las_vegas_success_rate = (las_vegas_successes / runs) * 100\n",
        "\n",
        "    return backtracking_success_rate, las_vegas_success_rate"
      ],
      "metadata": {
        "id": "oVuZ6tAfwa1E"
      },
      "execution_count": 173,
      "outputs": []
    },
    {
      "cell_type": "code",
      "source": [
        " # Run the simulations\n",
        "backtracking_rate, las_vegas_rate = run_simulations(maze_simplified, start, end)\n",
        "\n",
        "# Print success rates\n",
        "print(f\"Backtracking Success Rate: {backtracking_rate}%\")\n",
        "print(f\"Las Vegas Success Rate: {las_vegas_rate}%\")"
      ],
      "metadata": {
        "colab": {
          "base_uri": "https://localhost:8080/"
        },
        "id": "I-iEDz4KzXb2",
        "outputId": "f7dde79b-8cb9-425c-a239-83e6657705ef"
      },
      "execution_count": 174,
      "outputs": [
        {
          "output_type": "stream",
          "name": "stdout",
          "text": [
            "Backtracking Success Rate: 100.0%\n",
            "Las Vegas Success Rate: 100.0%\n"
          ]
        }
      ]
    },
    {
      "cell_type": "code",
      "source": [],
      "metadata": {
        "id": "57Tbsyhnz4ce"
      },
      "execution_count": 174,
      "outputs": []
    }
  ]
}